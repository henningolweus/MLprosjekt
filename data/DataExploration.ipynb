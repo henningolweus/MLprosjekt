{
 "cells": [
  {
   "cell_type": "code",
   "execution_count": null,
   "id": "4f2abba0",
   "metadata": {},
   "outputs": [],
   "source": [
    "import os\n",
    "import pandas as pd\n",
    "import numpy as np\n",
    "import matplotlib.pylab as plt\n",
    "%matplotlib inline\n",
    "\n",
    "pd.set_option('display.max_rows', 200)\n",
    "pd.set_option('display.max_columns', 200)"
   ]
  },
  {
   "cell_type": "code",
   "execution_count": null,
   "id": "ed9e016d",
   "metadata": {},
   "outputs": [],
   "source": [
    "train_a = pd.read_parquet('A/train_targets.parquet')\n",
    "train_b = pd.read_parquet('B/train_targets.parquet')\n",
    "train_c = pd.read_parquet('C/train_targets.parquet')"
   ]
  },
  {
   "cell_type": "code",
   "execution_count": 14,
   "id": "5a985e96",
   "metadata": {},
   "outputs": [],
   "source": [
    "X_train_estimated_a = pd.read_parquet('A/X_train_estimated.parquet')\n",
    "X_train_estimated_b = pd.read_parquet('B/X_train_estimated.parquet')\n",
    "X_train_estimated_c = pd.read_parquet('C/X_train_estimated.parquet')\n"
   ]
  },
  {
   "cell_type": "code",
   "execution_count": 15,
   "id": "b9bba9f5",
   "metadata": {},
   "outputs": [],
   "source": [
    "X_train_observed_a = pd.read_parquet('A/X_train_observed.parquet')\n",
    "X_train_observed_b = pd.read_parquet('B/X_train_observed.parquet')\n",
    "X_train_observed_c = pd.read_parquet('C/X_train_observed.parquet')\n",
    "\n"
   ]
  },
  {
   "cell_type": "code",
   "execution_count": 16,
   "id": "47e71783",
   "metadata": {},
   "outputs": [],
   "source": [
    "X_test_estimated_a = pd.read_parquet('A/X_test_estimated.parquet')\n",
    "X_test_estimated_b = pd.read_parquet('B/X_test_estimated.parquet')\n",
    "X_test_estimated_c = pd.read_parquet('C/X_test_estimated.parquet')\n"
   ]
  },
  {
   "cell_type": "markdown",
   "id": "a22f321d",
   "metadata": {},
   "source": [
    "### Data Processing"
   ]
  },
  {
   "cell_type": "markdown",
   "id": "ca5251f0",
   "metadata": {},
   "source": [
    "**Handle NaN values**\n",
    "- Look through all features and handle seperately"
   ]
  },
  {
   "cell_type": "markdown",
   "id": "440d44d2",
   "metadata": {},
   "source": [
    "**Aggregate weather data to hourly averages, sums, max/min etc. depending on the relevance of the metric.**\n",
    "- Ensure the timestamps between weather data and power production align."
   ]
  },
  {
   "cell_type": "markdown",
   "id": "b91457c0",
   "metadata": {},
   "source": [
    "Aggregating 15 minute frequency to hourly for location A on the most relevant features"
   ]
  },
  {
   "cell_type": "code",
   "execution_count": 29,
   "id": "f32251f6",
   "metadata": {},
   "outputs": [
    {
     "data": {
      "text/html": [
       "<div>\n",
       "<style scoped>\n",
       "    .dataframe tbody tr th:only-of-type {\n",
       "        vertical-align: middle;\n",
       "    }\n",
       "\n",
       "    .dataframe tbody tr th {\n",
       "        vertical-align: top;\n",
       "    }\n",
       "\n",
       "    .dataframe thead th {\n",
       "        text-align: right;\n",
       "    }\n",
       "</style>\n",
       "<table border=\"1\" class=\"dataframe\">\n",
       "  <thead>\n",
       "    <tr style=\"text-align: right;\">\n",
       "      <th></th>\n",
       "      <th>time</th>\n",
       "      <th>pv_measurement</th>\n",
       "    </tr>\n",
       "  </thead>\n",
       "  <tbody>\n",
       "    <tr>\n",
       "      <th>0</th>\n",
       "      <td>2019-06-02 22:00:00</td>\n",
       "      <td>0.00</td>\n",
       "    </tr>\n",
       "    <tr>\n",
       "      <th>1</th>\n",
       "      <td>2019-06-02 23:00:00</td>\n",
       "      <td>0.00</td>\n",
       "    </tr>\n",
       "    <tr>\n",
       "      <th>2</th>\n",
       "      <td>2019-06-03 00:00:00</td>\n",
       "      <td>0.00</td>\n",
       "    </tr>\n",
       "    <tr>\n",
       "      <th>3</th>\n",
       "      <td>2019-06-03 01:00:00</td>\n",
       "      <td>0.00</td>\n",
       "    </tr>\n",
       "    <tr>\n",
       "      <th>4</th>\n",
       "      <td>2019-06-03 02:00:00</td>\n",
       "      <td>19.36</td>\n",
       "    </tr>\n",
       "    <tr>\n",
       "      <th>...</th>\n",
       "      <td>...</td>\n",
       "      <td>...</td>\n",
       "    </tr>\n",
       "    <tr>\n",
       "      <th>34080</th>\n",
       "      <td>2023-04-30 19:00:00</td>\n",
       "      <td>9.02</td>\n",
       "    </tr>\n",
       "    <tr>\n",
       "      <th>34081</th>\n",
       "      <td>2023-04-30 20:00:00</td>\n",
       "      <td>0.00</td>\n",
       "    </tr>\n",
       "    <tr>\n",
       "      <th>34082</th>\n",
       "      <td>2023-04-30 21:00:00</td>\n",
       "      <td>0.00</td>\n",
       "    </tr>\n",
       "    <tr>\n",
       "      <th>34083</th>\n",
       "      <td>2023-04-30 22:00:00</td>\n",
       "      <td>0.00</td>\n",
       "    </tr>\n",
       "    <tr>\n",
       "      <th>34084</th>\n",
       "      <td>2023-04-30 23:00:00</td>\n",
       "      <td>0.00</td>\n",
       "    </tr>\n",
       "  </tbody>\n",
       "</table>\n",
       "<p>34085 rows × 2 columns</p>\n",
       "</div>"
      ],
      "text/plain": [
       "                     time  pv_measurement\n",
       "0     2019-06-02 22:00:00            0.00\n",
       "1     2019-06-02 23:00:00            0.00\n",
       "2     2019-06-03 00:00:00            0.00\n",
       "3     2019-06-03 01:00:00            0.00\n",
       "4     2019-06-03 02:00:00           19.36\n",
       "...                   ...             ...\n",
       "34080 2023-04-30 19:00:00            9.02\n",
       "34081 2023-04-30 20:00:00            0.00\n",
       "34082 2023-04-30 21:00:00            0.00\n",
       "34083 2023-04-30 22:00:00            0.00\n",
       "34084 2023-04-30 23:00:00            0.00\n",
       "\n",
       "[34085 rows x 2 columns]"
      ]
     },
     "execution_count": 29,
     "metadata": {},
     "output_type": "execute_result"
    }
   ],
   "source": [
    "\n",
    "aggregation_methods = {\n",
    "    'clear_sky_rad:W': 'mean',\n",
    "    'direct_rad:W': 'mean',\n",
    "    'direct_rad_1h:J': 'last',\n",
    "    'diffuse_rad:W': 'mean',\n",
    "    'diffuse_rad_1h:J': 'last',\n",
    "    'effective_cloud_cover:p': 'mean',\n",
    "    'is_day:idx': 'max',\n",
    "    'is_in_shadow:idx': 'sum',\n",
    "    'sun_elevation:d': 'mean',\n",
    "    'total_cloud_cover:p': 'mean'\n",
    "}\n",
    "\n",
    "X_train_observed_a_hourly = .resample('H').agg(aggregation_methods)"
   ]
  },
  {
   "cell_type": "code",
   "execution_count": 28,
   "id": "73130939",
   "metadata": {},
   "outputs": [],
   "source": [
    "highly_relevant = ['clear_sky_rad:W', 'direct_rad:W', 'direct_rad_1h:J', 'diffuse_rad:W', 'diffuse_rad_1h:J',\n",
    "                   'effective_cloud_cover:p', 'is_day:idx', 'is_in_shadow:idx', 'sun_elevation:d', 'total_cloud_cover:p']\n",
    "\n",
    "moderately_relevant = ['ceiling_height_agl:m', 'cloud_base_agl:m', 'snow_depth:cm', 'fresh_snow_1h:cm', 'fresh_snow_3h:cm',\n",
    "                       'wind_speed_10m:ms', 'wind_speed_u_10m:ms', 'wind_speed_v_10m:ms', 'visibility:m']\n"
   ]
  },
  {
   "cell_type": "code",
   "execution_count": null,
   "id": "28778976",
   "metadata": {},
   "outputs": [],
   "source": []
  }
 ],
 "metadata": {
  "kernelspec": {
   "display_name": "Python 3 (ipykernel)",
   "language": "python",
   "name": "python3"
  },
  "language_info": {
   "codemirror_mode": {
    "name": "ipython",
    "version": 3
   },
   "file_extension": ".py",
   "mimetype": "text/x-python",
   "name": "python",
   "nbconvert_exporter": "python",
   "pygments_lexer": "ipython3",
   "version": "3.9.16"
  }
 },
 "nbformat": 4,
 "nbformat_minor": 5
}
