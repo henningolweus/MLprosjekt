{
 "cells": [
  {
   "cell_type": "code",
   "execution_count": null,
   "id": "9960368f-0b0a-4bbf-aa07-c1cfba4bec93",
   "metadata": {},
   "outputs": [],
   "source": [
    "import pandas as pd\n",
    "\n",
    "# Load the first CSV file\n",
    "sub1 = pd.read_csv('Submissions/20ModelsCatboost.csv')\n",
    "\n",
    "# Load the second CSV file\n",
    "sub2 = pd.read_csv('Submissions/autogluon_prediction_date_time_included_2.csv')\n",
    "\n",
    "merged_df = pd.merge(sub1, sub2, on=['id'])\n",
    "merged_df['prediction'] = merged_df[['prediction_x', 'prediction_y']].mean(axis=1)\n",
    "final_df = merged_df.drop(columns=['prediction_x', 'prediction_y'])\n",
    "final_df.loc[final_df['prediction'] < 6, 'prediction'] = 0\n",
    "final_df.to_csv('BlendedModels/143catboost148autgluon.csv', index=False)"
   ]
  },
  {
   "cell_type": "code",
   "execution_count": null,
   "id": "b7163279-54f1-4dd2-99ea-15934b45153e",
   "metadata": {},
   "outputs": [],
   "source": [
    "import pandas as pd\n",
    "\n",
    "# Load the first CSV file\n",
    "sub1 = pd.read_csv('Submissions/20ModelsCatboost.csv')\n",
    "\n",
    "# Load the second CSV file\n",
    "sub2 = pd.read_csv('Submissions/autogluon_prediction_date_time_included_2.csv')\n",
    "\n",
    "def weighted_avg(sub1,sub2, w1, w2):\n",
    "    merged_df = pd.merge(sub1, sub2, on=['id'])\n",
    "    merged_df['prediction'] = merged_df['prediction_x']*w1 + merged_df['prediction_y']*w2\n",
    "    final_df = merged_df.drop(columns=['prediction_x', 'prediction_y'])\n",
    "    final_df.loc[final_df['prediction'] < 8, 'prediction'] = 0\n",
    "    return final_df\n",
    "\n",
    "final_df = weighted_avg(sub1,sub2,0.7,0.3)\n",
    "final_df.to_csv('BlendedModels/143catboost148autgluon_weighted_avg2.csv', index=False)"
   ]
  }
 ],
 "metadata": {
  "environment": {
   "kernel": "python3",
   "name": "common-cpu.m112",
   "type": "gcloud",
   "uri": "gcr.io/deeplearning-platform-release/base-cpu:m112"
  },
  "kernelspec": {
   "display_name": "Python 3",
   "language": "python",
   "name": "python3"
  },
  "language_info": {
   "codemirror_mode": {
    "name": "ipython",
    "version": 3
   },
   "file_extension": ".py",
   "mimetype": "text/x-python",
   "name": "python",
   "nbconvert_exporter": "python",
   "pygments_lexer": "ipython3",
   "version": "3.10.12"
  }
 },
 "nbformat": 4,
 "nbformat_minor": 5
}
