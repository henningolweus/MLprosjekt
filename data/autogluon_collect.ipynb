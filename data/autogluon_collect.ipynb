{
 "cells": [
  {
   "cell_type": "code",
   "execution_count": 8,
   "metadata": {},
   "outputs": [],
   "source": [
    "import pandas as pd"
   ]
  },
  {
   "cell_type": "code",
   "execution_count": 9,
   "metadata": {},
   "outputs": [],
   "source": [
    "y_pred_a = pd.read_csv('autogluon/y_pred_a.csv')\n",
    "y_pred_b = pd.read_csv('autogluon/y_pred_b.csv')\n",
    "y_pred_c = pd.read_csv('autogluon/y_pred_c.csv')"
   ]
  },
  {
   "cell_type": "code",
   "execution_count": null,
   "metadata": {},
   "outputs": [],
   "source": []
  },
  {
   "cell_type": "code",
   "execution_count": 12,
   "metadata": {},
   "outputs": [],
   "source": [
    "import pandas as pd\n",
    "\n",
    "# Read the CSV files, use 'usecols' to skip 'Unnamed: 0' if it's always the first column\n",
    "y_pred_a = pd.read_csv('autogluon/y_pred_a.csv', usecols=lambda column: column != 'Unnamed: 0')\n",
    "y_pred_b = pd.read_csv('autogluon/y_pred_b.csv', usecols=lambda column: column != 'Unnamed: 0')\n",
    "y_pred_c = pd.read_csv('autogluon/y_pred_c.csv', usecols=lambda column: column != 'Unnamed: 0')\n",
    "\n",
    "# Concatenate the dataframes\n",
    "predictions = pd.concat([y_pred_a, y_pred_b, y_pred_c], ignore_index=True)\n",
    "\n",
    "# Rename the 'pv_measurement' column to 'prediction'\n",
    "predictions_df = predictions.rename(columns={'pv_measurement': 'prediction'})\n",
    "\n",
    "# Convert all negative predictions to 0\n",
    "predictions_df.loc[predictions_df['prediction'] < 0, 'prediction'] = 0\n",
    "\n",
    "# Add an 'id' column based on the length of the dataframe\n",
    "predictions_df.insert(0, 'id', range(len(predictions_df)))\n",
    "\n",
    "# Read the sample_submission CSV\n",
    "sample_submission = pd.read_csv('sample_submission.csv')\n",
    "\n",
    "# Join the 'id' column from predictions_df with the sample_submission dataframe\n",
    "# Ensure that the 'id' column in sample_submission matches the one in predictions_df\n",
    "sample_submission = sample_submission.merge(predictions_df[['id', 'prediction']], on='id', how='left')\n",
    "\n",
    "# Save the updated sample_submission to CSV without the index\n",
    "predictions_df.to_csv('autogluon_prediction_four_columns_random_split_on_PC.csv', index=False)\n",
    "\n"
   ]
  },
  {
   "cell_type": "code",
   "execution_count": 5,
   "metadata": {},
   "outputs": [
    {
     "data": {
      "text/plain": [
       "array([5, 6, 7])"
      ]
     },
     "execution_count": 5,
     "metadata": {},
     "output_type": "execute_result"
    }
   ],
   "source": [
    "import pandas as pd\n",
    "\n",
    "# Assuming 'test.csv' has a 'time' column with date strings\n",
    "test = pd.read_csv('test.csv')\n",
    "\n",
    "# Convert the 'time' column to datetime\n",
    "test['time'] = pd.to_datetime(test['time'])\n",
    "\n",
    "# Extract the month and find unique values\n",
    "unique_months = test['time'].dt.month.unique()\n",
    "unique_months"
   ]
  },
  {
   "cell_type": "code",
   "execution_count": null,
   "metadata": {},
   "outputs": [],
   "source": []
  }
 ],
 "metadata": {
  "kernelspec": {
   "display_name": "base",
   "language": "python",
   "name": "python3"
  },
  "language_info": {
   "codemirror_mode": {
    "name": "ipython",
    "version": 3
   },
   "file_extension": ".py",
   "mimetype": "text/x-python",
   "name": "python",
   "nbconvert_exporter": "python",
   "pygments_lexer": "ipython3",
   "version": "3.9.7"
  }
 },
 "nbformat": 4,
 "nbformat_minor": 2
}
