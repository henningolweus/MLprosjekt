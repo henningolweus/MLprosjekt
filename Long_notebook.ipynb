{
 "cells": [
  {
   "cell_type": "code",
   "execution_count": 13,
   "metadata": {},
   "outputs": [],
   "source": [
    "import pandas as pd\n",
    "import numpy as np\n",
    "import matplotlib.pyplot as plt"
   ]
  },
  {
   "attachments": {},
   "cell_type": "markdown",
   "metadata": {},
   "source": [
    "# Kaggle team name: AI papi"
   ]
  },
  {
   "attachments": {},
   "cell_type": "markdown",
   "metadata": {},
   "source": [
    "| Team Member                | StudentID  |\n",
    "|----------------------------|------------|\n",
    "| Per-Christian Færøvik Grieg | StudentID  |\n",
    "| Syver Verlo Nes            | StudentID  |\n",
    "| Henning Olweus             | StudentID  |\n",
    "\n"
   ]
  },
  {
   "attachments": {},
   "cell_type": "markdown",
   "metadata": {},
   "source": [
    "- Adde dependencies, i tilfelle koden ikke kjører?\n",
    "- pip-install dependencies det som trengs for å kjøre \n",
    "- Activate viritual enviroment"
   ]
  },
  {
   "attachments": {},
   "cell_type": "markdown",
   "metadata": {},
   "source": [
    "# Possible deductable points (tags)\n",
    "In order to make it easier to cross off that the ceckpoints for deducted points have been included in the notebook, we have left **tags** where this has been done. Using the search function you can search for the tag in the table below to find places in the notebook where the following deduction point has been included. The same tag can be found more than once in the notebook, as some of the anlaysis can have been done in the EDA analysis, and some in when testing models with different preprocessing. \n",
    "\n",
    "\n",
    "| Tag | Possible Deduction Checkpoints |\n",
    "|-----|--------------------------------|\n",
    "|SDK123    | Search domain knowledge |\n",
    "|Intu123     | Check if the data is intuitive |\n",
    "|UG123     | Understand how the data was generated |\n",
    "|ExFeat123     | Explore individual features |\n",
    "|ExPGFeat123     | Explore pairs and groups of features |\n",
    "|ClFeat123     | Clean up features |\n",
    "|Pred123     | Only one type of predictor is used (-3). |\n",
    "|FeatEng123     | no feature engineering (-3). |\n",
    "|Modinter123     | no model interpretation (-3).  |\n"
   ]
  },
  {
   "attachments": {},
   "cell_type": "markdown",
   "metadata": {},
   "source": [
    "# Structure of long notebook\n",
    "1. First look at the data\n",
    "2. EDA\n",
    "3. Multiple predictors\n"
   ]
  },
  {
   "attachments": {},
   "cell_type": "markdown",
   "metadata": {},
   "source": [
    "### Imports and help functions"
   ]
  },
  {
   "cell_type": "code",
   "execution_count": 6,
   "metadata": {},
   "outputs": [],
   "source": [
    "#Imports here"
   ]
  },
  {
   "cell_type": "code",
   "execution_count": 7,
   "metadata": {},
   "outputs": [],
   "source": [
    "#Help functions here"
   ]
  },
  {
   "attachments": {},
   "cell_type": "markdown",
   "metadata": {},
   "source": [
    "# 1. Looking at the data"
   ]
  },
  {
   "cell_type": "code",
   "execution_count": 11,
   "metadata": {},
   "outputs": [],
   "source": [
    "# Describe data briefly\n",
    "# Bare laste inn data, se på den, og preprocessing?"
   ]
  },
  {
   "attachments": {},
   "cell_type": "markdown",
   "metadata": {},
   "source": [
    "# 2. Exploratory data analysis"
   ]
  },
  {
   "attachments": {},
   "cell_type": "markdown",
   "metadata": {},
   "source": [
    "### Search for domain knowledge \n",
    "Before diving deeper into the data and ML models, we would like to understand what is the main driver of solar production. This can help us better understand the data, the individual features and the importance of them. This we can do by reading about what features or weather conditions has an effect on solar production. We of course have the obvious ones like sunlight  and clear sky, but diving deeper into other conditions can be helpfull when diving into our EDA. \n",
    "\n"
   ]
  },
  {
   "attachments": {},
   "cell_type": "markdown",
   "metadata": {},
   "source": [
    "After scanning the web for information on the impact our different features has on solar power production and the prediction of these values, we decided to structure this in the table below. The \"low\", \"moderate\" and \"high\" columns is our hypothesis on the impact certain features will have on predicting solar porduction, also reflecting their impact on production. \n",
    "\n",
    "| Feature Name                         | Low       | Moderate  | High      | Reasoning |\n",
    "|--------------------------------------|-----------|-----------|-----------|-----------|\n",
    "| `absolute_humidity_2m:gm3`           |           | x         |           | Can have an effect on cloud formation and therefore an inderectly effect on solar irradiance. |\n",
    "| `air_density_2m:kgm3`                |           | x         |           | Could maybe or slightly influence the efficiency of solar panels. |\n",
    "| `ceiling_height_agl:m`               |           | x         |           | Can affect sunlight penetration. |\n",
    "| `clear_sky_energy_1h:J`              |           |           | x         | Directly related to solar energy under clear sky conditions. |\n",
    "| `clear_sky_rad:W`                    |           |           | x         | Important as it represents the potential radiation under clear sky |\n",
    "| `cloud_base_agl:m`                   |           | x         |           | Potenionally effects the solar radiation reaching the ground. |\n",
    "| `dew_or_rime:idx`                    |           | x         |           | Can indicate moisture levels, which in turn may correlate with cloud cover. |\n",
    "| `dew_point_2m:K`                     |           | x         |           | Can from our understanding be related to cloud formation, which in turn can block sunlight. |\n",
    "| `diffuse_rad:W`                      |           | x         |           | Diffuse radiation can still be absorbed by the solar panels, affecting our predictions. |\n",
    "| `diffuse_rad_1h:J`                   |           | x         |           | Same as row above, but could maybe tell us more because it gives us it over time. |\n",
    "| `direct_rad:W`                       |           |           | x         | We see this as one of the most important features for solar energy production, and it therfore affects our predictions significantly. |\n",
    "| `direct_rad_1h:J`                    |           |           | x         | Same as above . |\n",
    "| `effective_cloud_cover:p`            |           |           | x         | Important as it directly impacts the amount of sunlight reaching the solar panels. |\n",
    "| `elevation:m`                        |           | x         |           | Could have some infuence, as it can tell something avout weather patterns and sunlight exposure. |\n",
    "| `fresh_snow_12h:cm`                  |          | x          |           |Longer duration of snowfall can potentionally have a strong effect on solar production, hence our predictions. |\n",
    "| `fresh_snow_1h:cm`                   | x         |           |           | Short-duration snow can affect predictions but less so than all-day events. |\n",
    "| `fresh_snow_24h:cm`                  |          | x          |           | Longer duration of snowfall can potentionally have a strong effect on solar production, hence our predictions. |\n",
    "| `fresh_snow_3h:cm`                   | x         |           |           | Short-duration snow can affect predictions but less so than all-day events. |\n",
    "| `fresh_snow_6h:cm`                   |          | x          |           | Longer duration of snowfall can potentionally have a strong effect on solar production, hence our predictions. |\n",
    "| `is_day:idx`                         |           |           | x         | Is day gives is important as it says something about the potential for solar production, foundational for our prediction. |\n",
    "| `is_in_shadow:idx`                   |          | x       |           | Indicates potential shading which is important for accurate predictions. |\n",
    "| `msl_pressure:hPa`                   | x          |          |           | Pressure can say something about weather patterns that could affect solar irradiance. |\n",
    "| `precip_5min:mm`                     |          |x           |           | As we see it, precipitation can both clean or cover the solar panels, impacting short-term predictions. |\n",
    "| `precip_type_5min:idx`               |          |x           |           | Same as above. |\n",
    "| `pressure_100m:hPa`                  |           | x         |           | Pressure at altitude can indicate weather trends, indirectly affecting predictions. |\n",
    "| `pressure_50m:hPa`                   |           | x         |           | Can tell us something about the weather and as well as weather to comeffects weather trend analysis for prediction. |\n",
    "| `prob_rime:p`                        | x         |           |           | Rime could affect surface conditions of panels, impacting predictions\n",
    "\n"
   ]
  },
  {
   "attachments": {},
   "cell_type": "markdown",
   "metadata": {},
   "source": []
  },
  {
   "attachments": {},
   "cell_type": "markdown",
   "metadata": {},
   "source": [
    "When looking at if the data is intuitive, we have use what we have learned in our search for domain knowledge.\n",
    "- Does Solar production should correlate positively with irradiance?\n",
    "- Production should typically be higher in summer months (assuming the location is in the Northern Hemisphere) due to longer daylight hours --> seasonality?\n",
    "- Bad weather should usually show a drop in production."
   ]
  },
  {
   "attachments": {},
   "cell_type": "markdown",
   "metadata": {},
   "source": []
  },
  {
   "attachments": {},
   "cell_type": "markdown",
   "metadata": {},
   "source": [
    "### Understand how the data was generated?"
   ]
  },
  {
   "attachments": {},
   "cell_type": "markdown",
   "metadata": {},
   "source": [
    "### Explore individual features \n",
    "\n",
    "Maybe plot the most important features from domain knowledge analysis, together with seasonal decomp"
   ]
  },
  {
   "attachments": {},
   "cell_type": "markdown",
   "metadata": {},
   "source": []
  },
  {
   "attachments": {},
   "cell_type": "markdown",
   "metadata": {},
   "source": [
    "### Explore pairs and groups of features \n",
    "\n"
   ]
  },
  {
   "attachments": {},
   "cell_type": "markdown",
   "metadata": {},
   "source": []
  }
 ],
 "metadata": {
  "kernelspec": {
   "display_name": "base",
   "language": "python",
   "name": "python3"
  },
  "language_info": {
   "codemirror_mode": {
    "name": "ipython",
    "version": 3
   },
   "file_extension": ".py",
   "mimetype": "text/x-python",
   "name": "python",
   "nbconvert_exporter": "python",
   "pygments_lexer": "ipython3",
   "version": "3.11.5"
  },
  "orig_nbformat": 4
 },
 "nbformat": 4,
 "nbformat_minor": 2
}
